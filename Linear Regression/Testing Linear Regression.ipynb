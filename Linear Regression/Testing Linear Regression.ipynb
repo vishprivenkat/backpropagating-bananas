{
 "cells": [
  {
   "cell_type": "code",
   "execution_count": 1,
   "metadata": {},
   "outputs": [],
   "source": [
    "import sys\n",
    "import os\n",
    "\n",
    "sys.path.append(os.path.abspath(os.path.join(os.getcwd(), '..')))"
   ]
  },
  {
   "cell_type": "code",
   "execution_count": 2,
   "metadata": {},
   "outputs": [],
   "source": [
    "from sklearn.datasets import fetch_california_housing\n",
    "from sklearn.model_selection import train_test_split\n",
    "from sklearn.preprocessing import StandardScaler\n",
    "import matplotlib.pyplot as plt\n",
    "import pandas as pd\n",
    "\n",
    "california_housing = fetch_california_housing()\n",
    "X, y = california_housing.data, california_housing.target\n",
    "\n",
    "X_train, X_test, y_train, y_test = train_test_split(X, y, test_size=0.2, random_state=42)\n",
    "\n",
    "scaler = StandardScaler()\n",
    "X_train_scaled = scaler.fit_transform(X_train)\n",
    "X_test_scaled = scaler.transform(X_test)"
   ]
  },
  {
   "cell_type": "code",
   "execution_count": 3,
   "metadata": {},
   "outputs": [
    {
     "name": "stdout",
     "output_type": "stream",
     "text": [
      "Epoch 1/1000, Loss: 3.485242922855391\n",
      "Epoch 101/1000, Loss: 0.5798485327507308\n",
      "Epoch 201/1000, Loss: 0.5493622917828428\n",
      "Epoch 301/1000, Loss: 0.5391317625193996\n",
      "Epoch 401/1000, Loss: 0.5340019356431465\n",
      "Epoch 501/1000, Loss: 0.5309239450961599\n",
      "Epoch 601/1000, Loss: 0.528871903900619\n",
      "Epoch 701/1000, Loss: 0.5274043379291612\n",
      "Epoch 801/1000, Loss: 0.5263025281756666\n",
      "Epoch 901/1000, Loss: 0.5254450721717469\n"
     ]
    }
   ],
   "source": [
    "# Now you can import the LinearRegression class\n",
    "from modules.LinearRegression import LinearRegression \n",
    "lr = LinearRegression(learning_rate = 0.001, n_iters=1000, batch_size = 32, init_method = 'random', loss_function='mse')\n",
    "lr.load_dataset(X_train_scaled, y_train.reshape(-1, 1))\n",
    "_, _, loss = lr.fit()"
   ]
  },
  {
   "cell_type": "code",
   "execution_count": 4,
   "metadata": {},
   "outputs": [
    {
     "data": {
      "image/png": "[encoded data removed]",
      "text/plain": [
       "<Figure size 432x288 with 1 Axes>"
      ]
     },
     "metadata": {
      "needs_background": "light"
     },
     "output_type": "display_data"
    }
   ],
   "source": [
    "# prompt: Take the loss array and create a line plot showing the loss progression with epochs please\n",
    "\n",
    "import matplotlib.pyplot as plt\n",
    "\n",
    "# Assuming 'loss' is the array containing the loss values for each epoch\n",
    "plt.plot(range(1, lr.n_iters + 1), loss)\n",
    "plt.xlabel('Epoch')\n",
    "plt.ylabel('Loss')\n",
    "plt.title('Loss Progression over Epochs')\n",
    "plt.show()\n"
   ]
  },
  {
   "cell_type": "code",
   "execution_count": null,
   "metadata": {},
   "outputs": [],
   "source": []
  }
 ],
 "metadata": {
  "kernelspec": {
   "display_name": "base",
   "language": "python",
   "name": "python3"
  },
  "language_info": {
   "codemirror_mode": {
    "name": "ipython",
    "version": 3
   },
   "file_extension": ".py",
   "mimetype": "text/x-python",
   "name": "python",
   "nbconvert_exporter": "python",
   "pygments_lexer": "ipython3",
   "version": "3.9.12"
  }
 },
 "nbformat": 4,
 "nbformat_minor": 2
}
