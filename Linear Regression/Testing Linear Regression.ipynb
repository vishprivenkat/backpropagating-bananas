{
 "cells": [
  {
   "cell_type": "code",
   "execution_count": 1,
   "metadata": {},
   "outputs": [],
   "source": [
    "import sys\n",
    "import os\n",
    "\n",
    "#sys.path.append(os.path.abspath(os.path.join(os.getcwd(), '..')))"
   ]
  },
  {
   "cell_type": "code",
   "execution_count": 2,
   "metadata": {},
   "outputs": [],
   "source": [
    "from sklearn.datasets import fetch_california_housing\n",
    "from sklearn.model_selection import train_test_split\n",
    "from sklearn.preprocessing import StandardScaler\n",
    "import matplotlib.pyplot as plt\n",
    "import pandas as pd\n",
    "\n",
    "california_housing = fetch_california_housing()\n",
    "X, y = california_housing.data, california_housing.target\n",
    "\n",
    "X_train, X_test, y_train, y_test = train_test_split(X, y, test_size=0.2, random_state=42)\n",
    "\n",
    "scaler = StandardScaler()\n",
    "X_train_scaled = scaler.fit_transform(X_train)\n",
    "X_test_scaled = scaler.transform(X_test)"
   ]
  },
  {
   "cell_type": "code",
   "execution_count": 4,
   "metadata": {},
   "outputs": [
    {
     "name": "stdout",
     "output_type": "stream",
     "text": [
      "Epoch 1/1000, Loss: 2.418777752991966\n",
      "Epoch 101/1000, Loss: 0.5590408037745176\n",
      "Epoch 201/1000, Loss: 0.538913527766438\n",
      "Epoch 301/1000, Loss: 0.5321539565549764\n",
      "Epoch 401/1000, Loss: 0.5287653287370756\n",
      "Epoch 501/1000, Loss: 0.5267319973832091\n",
      "Epoch 601/1000, Loss: 0.5253743404785142\n",
      "Epoch 701/1000, Loss: 0.5244041018366664\n",
      "Epoch 801/1000, Loss: 0.5236763682313382\n",
      "Epoch 901/1000, Loss: 0.5231098212397084\n"
     ]
    }
   ],
   "source": [
    "# LinearRegression class with MSE as the error function\n",
    "\n",
    "from modules.LinearRegression import LinearRegression \n",
    "lr_mse = LinearRegression(learning_rate = 0.001, n_iters=1000, batch_size = 32, init_method = 'random', loss_function='mse')\n",
    "lr_mse.load_dataset(X_train_scaled, y_train.reshape(-1, 1))\n",
    "_, _, loss = lr_mse.fit()"
   ]
  },
  {
   "cell_type": "code",
   "execution_count": 5,
   "metadata": {},
   "outputs": [],
   "source": [
    "overall_loss, y_preds = lr_mse.evaluate(X_test_scaled, y_test.reshape(-1, 1), loss_function='mse', pred=True)"
   ]
  },
  {
   "cell_type": "code",
   "execution_count": 6,
   "metadata": {},
   "outputs": [
    {
     "data": {
      "text/plain": [
       "array([[0.71019326],\n",
       "       [1.75980369],\n",
       "       [2.70454536],\n",
       "       ...,\n",
       "       [4.4798368 ],\n",
       "       [1.18283757],\n",
       "       [2.00100979]])"
      ]
     },
     "execution_count": 6,
     "metadata": {},
     "output_type": "execute_result"
    }
   ],
   "source": []
  },
  {
   "cell_type": "code",
   "execution_count": 12,
   "metadata": {},
   "outputs": [
    {
     "name": "stdout",
     "output_type": "stream",
     "text": [
      "Epoch 1/1000, Loss: 1.7144681733049973\n",
      "Epoch 101/1000, Loss: 0.5659000969996969\n",
      "Epoch 201/1000, Loss: 0.5390221446210968\n",
      "Epoch 301/1000, Loss: 0.5298848568443344\n",
      "Epoch 401/1000, Loss: 0.5252627451338465\n",
      "Epoch 501/1000, Loss: 0.5224724294992559\n",
      "Epoch 601/1000, Loss: 0.520605418630518\n",
      "Epoch 701/1000, Loss: 0.5192687265272586\n",
      "Epoch 801/1000, Loss: 0.5182652703185343\n",
      "Epoch 901/1000, Loss: 0.517484082313216\n"
     ]
    }
   ],
   "source": [
    "# LinearRegression class with MAE as the error function\n",
    "lr_mae = LinearRegression(learning_rate = 0.001, n_iters=1000, batch_size = 32, init_method = 'random', loss_function='mae')\n",
    "lr_mae.load_dataset(X_train_scaled, y_train.reshape(-1, 1))\n",
    "_, _, loss = lr_mae.fit()"
   ]
  },
  {
   "cell_type": "code",
   "execution_count": 13,
   "metadata": {},
   "outputs": [
    {
     "data": {
      "image/png": "[encoded data removed]",
      "text/plain": [
       "<Figure size 432x288 with 1 Axes>"
      ]
     },
     "metadata": {
      "needs_background": "light"
     },
     "output_type": "display_data"
    }
   ],
   "source": [
    "\n",
    "import matplotlib.pyplot as plt\n",
    "\n",
    "# Assuming 'loss' is the array containing the loss values for each epoch\n",
    "plt.plot(range(1, lr_mse.n_iters + 1), loss)\n",
    "plt.xlabel('Epoch')\n",
    "plt.ylabel('Loss')\n",
    "plt.title('Loss Progression over Epochs with MSE')\n",
    "plt.show()\n"
   ]
  },
  {
   "cell_type": "code",
   "execution_count": 14,
   "metadata": {},
   "outputs": [
    {
     "data": {
      "image/png": "[encoded data removed]",
      "text/plain": [
       "<Figure size 432x288 with 1 Axes>"
      ]
     },
     "metadata": {
      "needs_background": "light"
     },
     "output_type": "display_data"
    }
   ],
   "source": [
    "import matplotlib.pyplot as plt\n",
    "\n",
    "# Assuming 'loss' is the array containing the loss values for each epoch\n",
    "plt.plot(range(1, lr_mae.n_iters + 1), loss)\n",
    "plt.xlabel('Epoch')\n",
    "plt.ylabel('Loss')\n",
    "plt.title('Loss Progression over Epochs with MSE')\n",
    "plt.show()\n"
   ]
  },
  {
   "cell_type": "code",
   "execution_count": 16,
   "metadata": {},
   "outputs": [
    {
     "data": {
      "text/plain": [
       "0.5615038146545815"
      ]
     },
     "execution_count": 16,
     "metadata": {},
     "output_type": "execute_result"
    }
   ],
   "source": [
    "lr_mse.evaluate(X_test_scaled, y_test.reshape(-1, 1)) "
   ]
  },
  {
   "cell_type": "code",
   "execution_count": 15,
   "metadata": {},
   "outputs": [
    {
     "data": {
      "text/plain": [
       "0.5119924202555431"
      ]
     },
     "execution_count": 15,
     "metadata": {},
     "output_type": "execute_result"
    }
   ],
   "source": [
    "lr_mae.evaluate(X_test_scaled, y_test.reshape(-1, 1))"
   ]
  },
  {
   "cell_type": "code",
   "execution_count": null,
   "metadata": {},
   "outputs": [],
   "source": [
    "lr_mse._r2(y_test.reshape(-1, 1), )"
   ]
  }
 ],
 "metadata": {
  "kernelspec": {
   "display_name": "base",
   "language": "python",
   "name": "python3"
  },
  "language_info": {
   "codemirror_mode": {
    "name": "ipython",
    "version": 3
   },
   "file_extension": ".py",
   "mimetype": "text/x-python",
   "name": "python",
   "nbconvert_exporter": "python",
   "pygments_lexer": "ipython3",
   "version": "3.9.12"
  }
 },
 "nbformat": 4,
 "nbformat_minor": 2
}
