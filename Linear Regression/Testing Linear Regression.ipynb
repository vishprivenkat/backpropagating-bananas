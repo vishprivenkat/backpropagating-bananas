{
 "cells": [
  {
   "cell_type": "code",
   "execution_count": 2,
   "metadata": {},
   "outputs": [],
   "source": [
    "import sys\n",
    "import os\n",
    "\n",
    "#sys.path.append(os.path.abspath(os.path.join(os.getcwd(), '..')))"
   ]
  },
  {
   "cell_type": "code",
   "execution_count": 1,
   "metadata": {},
   "outputs": [],
   "source": [
    "from sklearn.datasets import fetch_california_housing\n",
    "from sklearn.model_selection import train_test_split\n",
    "from sklearn.preprocessing import StandardScaler\n",
    "import matplotlib.pyplot as plt\n",
    "import pandas as pd\n",
    "\n",
    "california_housing = fetch_california_housing()\n",
    "X, y = california_housing.data, california_housing.target\n",
    "\n",
    "X_train, X_test, y_train, y_test = train_test_split(X, y, test_size=0.2, random_state=42)\n",
    "\n",
    "scaler = StandardScaler()\n",
    "X_train_scaled = scaler.fit_transform(X_train)\n",
    "X_test_scaled = scaler.transform(X_test)"
   ]
  },
  {
   "cell_type": "code",
   "execution_count": 7,
   "metadata": {},
   "outputs": [
    {
     "name": "stdout",
     "output_type": "stream",
     "text": [
      "Epoch 1/1000, Loss: 2.71107784307772\n",
      "Epoch 101/1000, Loss: 0.5571146558909932\n",
      "Epoch 201/1000, Loss: 0.5379524019867733\n",
      "Epoch 301/1000, Loss: 0.5315124889220688\n",
      "Epoch 401/1000, Loss: 0.5282865206191288\n",
      "Epoch 501/1000, Loss: 0.5263476683450482\n",
      "Epoch 601/1000, Loss: 0.5250544786880499\n",
      "Epoch 701/1000, Loss: 0.5241275203665843\n",
      "Epoch 801/1000, Loss: 0.5234345338231791\n",
      "Epoch 901/1000, Loss: 0.5228950936992534\n"
     ]
    }
   ],
   "source": [
    "# Now you can import the LinearRegression class\n",
    "from modules.LinearRegression import LinearRegression \n",
    "lr_mse = LinearRegression(learning_rate = 0.001, n_iters=1000, batch_size = 32, init_method = 'random', loss_function='mse')\n",
    "lr_mse.load_dataset(X_train_scaled, y_train.reshape(-1, 1))\n",
    "_, _, loss = lr_mse.fit()"
   ]
  },
  {
   "cell_type": "code",
   "execution_count": 8,
   "metadata": {},
   "outputs": [
    {
     "data": {
      "image/png": "[encoded data removed]",
      "text/plain": [
       "<Figure size 432x288 with 1 Axes>"
      ]
     },
     "metadata": {
      "needs_background": "light"
     },
     "output_type": "display_data"
    }
   ],
   "source": [
    "# prompt: Take the loss array and create a line plot showing the loss progression with epochs please\n",
    "\n",
    "import matplotlib.pyplot as plt\n",
    "\n",
    "# Assuming 'loss' is the array containing the loss values for each epoch\n",
    "plt.plot(range(1, lr.n_iters + 1), loss)\n",
    "plt.xlabel('Epoch')\n",
    "plt.ylabel('Loss')\n",
    "plt.title('Loss Progression over Epochs with MSE')\n",
    "plt.show()\n"
   ]
  },
  {
   "cell_type": "code",
   "execution_count": 3,
   "metadata": {},
   "outputs": [
    {
     "name": "stdout",
     "output_type": "stream",
     "text": [
      "Epoch 1/1000, Loss: 1.461622876566268\n",
      "Epoch 101/1000, Loss: 0.552804475523086\n",
      "Epoch 201/1000, Loss: 0.5323487984359416\n",
      "Epoch 301/1000, Loss: 0.5253970116345537\n",
      "Epoch 401/1000, Loss: 0.521885456265727\n",
      "Epoch 501/1000, Loss: 0.5197658233141085\n",
      "Epoch 601/1000, Loss: 0.5183477154867181\n",
      "Epoch 701/1000, Loss: 0.5173327131228008\n",
      "Epoch 801/1000, Loss: 0.5165706092629879\n",
      "Epoch 901/1000, Loss: 0.5159773693870401\n"
     ]
    }
   ],
   "source": [
    "# LinearRegression class with MAE as the error function\n",
    "from modules.LinearRegression import LinearRegression \n",
    "lr = LinearRegression(learning_rate = 0.001, n_iters=1000, batch_size = 32, init_method = 'random', loss_function='mae')\n",
    "lr.load_dataset(X_train_scaled, y_train.reshape(-1, 1))\n",
    "_, _, loss = lr.fit()"
   ]
  },
  {
   "cell_type": "code",
   "execution_count": 4,
   "metadata": {},
   "outputs": [
    {
     "data": {
      "image/png": "[encoded data removed]",
      "text/plain": [
       "<Figure size 432x288 with 1 Axes>"
      ]
     },
     "metadata": {
      "needs_background": "light"
     },
     "output_type": "display_data"
    }
   ],
   "source": [
    "import matplotlib.pyplot as plt\n",
    "\n",
    "# Assuming 'loss' is the array containing the loss values for each epoch\n",
    "plt.plot(range(1, lr.n_iters + 1), loss)\n",
    "plt.xlabel('Epoch')\n",
    "plt.ylabel('Loss')\n",
    "plt.title('Loss Progression over Epochs with MSE')\n",
    "plt.show()\n"
   ]
  },
  {
   "cell_type": "code",
   "execution_count": 6,
   "metadata": {},
   "outputs": [
    {
     "data": {
      "text/plain": [
       "0.5119300539921869"
      ]
     },
     "execution_count": 6,
     "metadata": {},
     "output_type": "execute_result"
    }
   ],
   "source": [
    "lr.evaluate(X_test_scaled, y_test.reshape(-1, 1)) "
   ]
  },
  {
   "cell_type": "code",
   "execution_count": null,
   "metadata": {},
   "outputs": [],
   "source": []
  }
 ],
 "metadata": {
  "kernelspec": {
   "display_name": "base",
   "language": "python",
   "name": "python3"
  },
  "language_info": {
   "codemirror_mode": {
    "name": "ipython",
    "version": 3
   },
   "file_extension": ".py",
   "mimetype": "text/x-python",
   "name": "python",
   "nbconvert_exporter": "python",
   "pygments_lexer": "ipython3",
   "version": "3.9.12"
  }
 },
 "nbformat": 4,
 "nbformat_minor": 2
}
