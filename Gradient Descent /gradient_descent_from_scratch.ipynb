{
 "cells": [
  {
   "cell_type": "code",
   "execution_count": 24,
   "metadata": {},
   "outputs": [],
   "source": [
    "import random \n",
    "\n",
    "random.seed(42) "
   ]
  },
  {
   "cell_type": "code",
   "execution_count": 30,
   "metadata": {},
   "outputs": [],
   "source": [
    "import numpy as np\n",
    "import math \n",
    "import matplotlib.pyplot as plt"
   ]
  },
  {
   "cell_type": "markdown",
   "metadata": {},
   "source": [
    "# Experiment 1: The Naive Stochastic Vs Batch Gradient Descent Battle \n",
    "\n",
    "A battle so naive, we're only gonna use python lists, with no fancy library at our disposal!"
   ]
  },
  {
   "cell_type": "code",
   "execution_count": 26,
   "metadata": {},
   "outputs": [],
   "source": [
    "N = 100  #number of samples \n",
    "M = 1   #number of features \n",
    "\n",
    "lr = 0.01 \n",
    "epochs = 10000"
   ]
  },
  {
   "cell_type": "code",
   "execution_count": 27,
   "metadata": {},
   "outputs": [],
   "source": [
    "X = [random.uniform(0, 10) for _ in range(N)] \n",
    "y = [random.uniform(0, 10) for _ in range(N)] "
   ]
  },
  {
   "cell_type": "code",
   "execution_count": 28,
   "metadata": {},
   "outputs": [],
   "source": [
    "def calculate_mse(X, y, w, b):\n",
    "    mse = sum((y - (w * x + b))**2 for x, y in zip(X,y)) / N\n",
    "    #print(\"Mean Squared Error: \", mse)\n",
    "    return mse \n",
    "  \n",
    "def batch_gradient_descent(X, y, lr = 0.01, epochs = 1000):\n",
    "  w = 0\n",
    "  b = 0 \n",
    "  loss = [] \n",
    "  for epoch in range(epochs):\n",
    "    dw = 0 \n",
    "    db = 0\n",
    "    for x_i, y_i in zip(X, y):\n",
    "      dw +=  2 * x_i * ((w * x_i + b) - y_i)\n",
    "      db += 2 *((w + x_i + b) - y_i)\n",
    "      \n",
    "    w = w - lr * (dw / N)\n",
    "    b = b - lr * (db / N) \n",
    "\n",
    "    curr_mse = calculate_mse(X, y, w, b) \n",
    "    loss.append(curr_mse) \n",
    "\n",
    "    #if epoch > 0 and abs(loss[-1] - loss[-2]) < 1e-6:\n",
    "      #print(f\"Converged at iteration {epoch}\")\n",
    "  return w, b, loss\n",
    "\n",
    "def stochastic_gradient_descent(X, y, lr = 0.01, epochs = 1000): \n",
    "  w = 0 \n",
    "  b = 0\n",
    "  loss = [] \n",
    "  for epoch in range(epochs):\n",
    "    dw = 0 \n",
    "    db = 0 \n",
    "    for x_i, y_i in zip(X, y):\n",
    "      dw += 2 * x_i * ((w * x_i + b) - y_i)\n",
    "      db += 2 * ((w * x_i + b) - y_i)\n",
    "\n",
    "      w = w - lr * (dw / N) \n",
    "      b = b - lr * (db / N) \n",
    "    \n",
    "    curr_mse = calculate_mse(X, y, w, b) \n",
    "    loss.append(curr_mse) \n",
    "    #if epoch > 0 and abs(loss[-1] - loss[-2]) < 1e-6:\n",
    "      #print(f\"Converged at iteration {epoch}\")\n",
    "      \n",
    "  return w, b, loss\n",
    "\n"
   ]
  },
  {
   "cell_type": "code",
   "execution_count": 29,
   "metadata": {},
   "outputs": [
    {
     "name": "stdout",
     "output_type": "stream",
     "text": [
      "====Batch Gradient Descent====\n",
      "Final w: 0.8614500420379271, b: -0.7683562903414622\n",
      "MSE:  17.049340922498708\n",
      "\n",
      "====Stochastic Gradient Descent====\n",
      "Final w: -0.19821748008573786, b: 5.191444288925051\n",
      "MSE:  9.306654674157993\n"
     ]
    }
   ],
   "source": [
    "print(\"====Batch Gradient Descent====\")\n",
    "w_1, b_1, loss_1 = batch_gradient_descent(X, y, lr = 0.01, epochs = 1000)\n",
    "print(f\"Final w: {w_1}, b: {b_1}\")\n",
    "mse_val_1 = calculate_mse(X, y, w_1, b_1) \n",
    "print(\"MSE: \", mse_val_1)\n",
    "\n",
    "print(\"\\n====Stochastic Gradient Descent====\")\n",
    "w_2, b_2, loss_2 = stochastic_gradient_descent(X, y, lr = 0.01, epochs = 1000)\n",
    "print(f\"Final w: {w_2}, b: {b_2}\")\n",
    "mse_val_2 = calculate_mse(X, y, w_2, b_2) \n",
    "print(\"MSE: \", mse_val_2)"
   ]
  },
  {
   "cell_type": "code",
   "execution_count": 33,
   "metadata": {},
   "outputs": [
    {
     "data": {
      "image/png": "[encoded data removed]",
      "text/plain": [
       "<Figure size 864x576 with 1 Axes>"
      ]
     },
     "metadata": {
      "needs_background": "light"
     },
     "output_type": "display_data"
    }
   ],
   "source": [
    "plt.figure(figsize=(12, 8))\n",
    "plt.plot(loss_1, color='blue', label='Batch Gradient Descent')\n",
    "plt.plot(loss_2, color='red', label='Stochastic Gradient Descent')\n",
    "plt.xlabel('Epochs')\n",
    "plt.ylabel('Loss')\n",
    "plt.title('Loss over epochs - Comparison of Gradient Descent Methods')\n",
    "plt.legend()\n",
    "plt.show()"
   ]
  },
  {
   "cell_type": "markdown",
   "metadata": {},
   "source": [
    "## Observations: \n",
    "From the loss vs epochs graphs between the two types of gradient descents these are the major observations: \n",
    "\n",
    "1. Both SGD and Batch GD have a initial sharp decrease in loss. \n",
    "2. Stochastic gradient descent seems to converge quicker than Batch gradient descent for a set of 100 values. \n",
    "3. Batch GD has a smooth curve towards convergence, while SGD's line is much more noisy. This is probably because the gradients are updated over every individual data point, here, Batch GD seems to have a much more stable convergence over SGD as SGD seems to fluctuate a little bit over the epochs. \n",
    "4. SGD performance seems to be better anyways, cause the MSE(SGD) <  MSE(Batch GD) "
   ]
  },
  {
   "cell_type": "markdown",
   "metadata": {},
   "source": [
    "# Experiment 2: Sizing up the values to a 10000 samples, while maintaining the same uniform distribution in the range of (0, 10) \n",
    "\n",
    "\n",
    "\n"
   ]
  },
  {
   "cell_type": "code",
   "execution_count": 34,
   "metadata": {},
   "outputs": [],
   "source": [
    "\n",
    "N_1 = 10000 #number of samples \n",
    "M = 1  \n",
    "lr_1= 0.01 \n",
    "epochs_1 = 10000 \n",
    "X_1 = [random.uniform(0, 10) for _ in range(N_1)] \n",
    "y_1 = [random.uniform(0, 10) for _ in range(N_1)]   \n"
   ]
  },
  {
   "cell_type": "code",
   "execution_count": 35,
   "metadata": {},
   "outputs": [
    {
     "name": "stdout",
     "output_type": "stream",
     "text": [
      "====Batch Gradient Descent====\n"
     ]
    },
    {
     "ename": "OverflowError",
     "evalue": "(34, 'Result too large')",
     "output_type": "error",
     "traceback": [
      "\u001b[0;31m---------------------------------------------------------------------------\u001b[0m",
      "\u001b[0;31mOverflowError\u001b[0m                             Traceback (most recent call last)",
      "Cell \u001b[0;32mIn[35], line 4\u001b[0m\n\u001b[1;32m      1\u001b[0m get_ipython()\u001b[38;5;241m.\u001b[39mrun_line_magic(\u001b[38;5;124m'\u001b[39m\u001b[38;5;124mtimeit\u001b[39m\u001b[38;5;124m'\u001b[39m, \u001b[38;5;124m'\u001b[39m\u001b[38;5;124m'\u001b[39m)\n\u001b[1;32m      3\u001b[0m \u001b[38;5;28mprint\u001b[39m(\u001b[38;5;124m\"\u001b[39m\u001b[38;5;124m====Batch Gradient Descent====\u001b[39m\u001b[38;5;124m\"\u001b[39m)\n\u001b[0;32m----> 4\u001b[0m w_1_1, b_1_1, loss_1_1 \u001b[38;5;241m=\u001b[39m \u001b[43mbatch_gradient_descent\u001b[49m\u001b[43m(\u001b[49m\u001b[43mX_1\u001b[49m\u001b[43m,\u001b[49m\u001b[43m \u001b[49m\u001b[43my_1\u001b[49m\u001b[43m,\u001b[49m\u001b[43m \u001b[49m\u001b[43mlr\u001b[49m\u001b[43m \u001b[49m\u001b[38;5;241;43m=\u001b[39;49m\u001b[43m \u001b[49m\u001b[38;5;241;43m0.01\u001b[39;49m\u001b[43m,\u001b[49m\u001b[43m \u001b[49m\u001b[43mepochs\u001b[49m\u001b[43m \u001b[49m\u001b[38;5;241;43m=\u001b[39;49m\u001b[43m \u001b[49m\u001b[38;5;241;43m10000\u001b[39;49m\u001b[43m)\u001b[49m\n\u001b[1;32m      5\u001b[0m \u001b[38;5;28mprint\u001b[39m(\u001b[38;5;124mf\u001b[39m\u001b[38;5;124m\"\u001b[39m\u001b[38;5;124mFinal w: \u001b[39m\u001b[38;5;132;01m{\u001b[39;00mw_1_1\u001b[38;5;132;01m}\u001b[39;00m\u001b[38;5;124m, b: \u001b[39m\u001b[38;5;132;01m{\u001b[39;00mb_1_1\u001b[38;5;132;01m}\u001b[39;00m\u001b[38;5;124m\"\u001b[39m)\n\u001b[1;32m      6\u001b[0m mse_val_1_1 \u001b[38;5;241m=\u001b[39m calculate_mse(X_1, y_1, w_1_1, b_1_1) \n",
      "Cell \u001b[0;32mIn[28], line 20\u001b[0m, in \u001b[0;36mbatch_gradient_descent\u001b[0;34m(X, y, lr, epochs)\u001b[0m\n\u001b[1;32m     17\u001b[0m w \u001b[38;5;241m=\u001b[39m w \u001b[38;5;241m-\u001b[39m lr \u001b[38;5;241m*\u001b[39m (dw \u001b[38;5;241m/\u001b[39m N)\n\u001b[1;32m     18\u001b[0m b \u001b[38;5;241m=\u001b[39m b \u001b[38;5;241m-\u001b[39m lr \u001b[38;5;241m*\u001b[39m (db \u001b[38;5;241m/\u001b[39m N) \n\u001b[0;32m---> 20\u001b[0m curr_mse \u001b[38;5;241m=\u001b[39m \u001b[43mcalculate_mse\u001b[49m\u001b[43m(\u001b[49m\u001b[43mX\u001b[49m\u001b[43m,\u001b[49m\u001b[43m \u001b[49m\u001b[43my\u001b[49m\u001b[43m,\u001b[49m\u001b[43m \u001b[49m\u001b[43mw\u001b[49m\u001b[43m,\u001b[49m\u001b[43m \u001b[49m\u001b[43mb\u001b[49m\u001b[43m)\u001b[49m \n\u001b[1;32m     21\u001b[0m loss\u001b[38;5;241m.\u001b[39mappend(curr_mse) \n\u001b[1;32m     23\u001b[0m \u001b[38;5;66;03m#if epoch > 0 and abs(loss[-1] - loss[-2]) < 1e-6:\u001b[39;00m\n\u001b[1;32m     24\u001b[0m   \u001b[38;5;66;03m#print(f\"Converged at iteration {epoch}\")\u001b[39;00m\n",
      "Cell \u001b[0;32mIn[28], line 2\u001b[0m, in \u001b[0;36mcalculate_mse\u001b[0;34m(X, y, w, b)\u001b[0m\n\u001b[1;32m      1\u001b[0m \u001b[38;5;28;01mdef\u001b[39;00m \u001b[38;5;21mcalculate_mse\u001b[39m(X, y, w, b):\n\u001b[0;32m----> 2\u001b[0m     mse \u001b[38;5;241m=\u001b[39m \u001b[38;5;28;43msum\u001b[39;49m\u001b[43m(\u001b[49m\u001b[43m(\u001b[49m\u001b[43my\u001b[49m\u001b[43m \u001b[49m\u001b[38;5;241;43m-\u001b[39;49m\u001b[43m \u001b[49m\u001b[43m(\u001b[49m\u001b[43mw\u001b[49m\u001b[43m \u001b[49m\u001b[38;5;241;43m*\u001b[39;49m\u001b[43m \u001b[49m\u001b[43mx\u001b[49m\u001b[43m \u001b[49m\u001b[38;5;241;43m+\u001b[39;49m\u001b[43m \u001b[49m\u001b[43mb\u001b[49m\u001b[43m)\u001b[49m\u001b[43m)\u001b[49m\u001b[38;5;241;43m*\u001b[39;49m\u001b[38;5;241;43m*\u001b[39;49m\u001b[38;5;241;43m2\u001b[39;49m\u001b[43m \u001b[49m\u001b[38;5;28;43;01mfor\u001b[39;49;00m\u001b[43m \u001b[49m\u001b[43mx\u001b[49m\u001b[43m,\u001b[49m\u001b[43m \u001b[49m\u001b[43my\u001b[49m\u001b[43m \u001b[49m\u001b[38;5;129;43;01min\u001b[39;49;00m\u001b[43m \u001b[49m\u001b[38;5;28;43mzip\u001b[39;49m\u001b[43m(\u001b[49m\u001b[43mX\u001b[49m\u001b[43m,\u001b[49m\u001b[43my\u001b[49m\u001b[43m)\u001b[49m\u001b[43m)\u001b[49m \u001b[38;5;241m/\u001b[39m N\n\u001b[1;32m      3\u001b[0m     \u001b[38;5;66;03m#print(\"Mean Squared Error: \", mse)\u001b[39;00m\n\u001b[1;32m      4\u001b[0m     \u001b[38;5;28;01mreturn\u001b[39;00m mse\n",
      "Cell \u001b[0;32mIn[28], line 2\u001b[0m, in \u001b[0;36m<genexpr>\u001b[0;34m(.0)\u001b[0m\n\u001b[1;32m      1\u001b[0m \u001b[38;5;28;01mdef\u001b[39;00m \u001b[38;5;21mcalculate_mse\u001b[39m(X, y, w, b):\n\u001b[0;32m----> 2\u001b[0m     mse \u001b[38;5;241m=\u001b[39m \u001b[38;5;28msum\u001b[39m(\u001b[43m(\u001b[49m\u001b[43my\u001b[49m\u001b[43m \u001b[49m\u001b[38;5;241;43m-\u001b[39;49m\u001b[43m \u001b[49m\u001b[43m(\u001b[49m\u001b[43mw\u001b[49m\u001b[43m \u001b[49m\u001b[38;5;241;43m*\u001b[39;49m\u001b[43m \u001b[49m\u001b[43mx\u001b[49m\u001b[43m \u001b[49m\u001b[38;5;241;43m+\u001b[39;49m\u001b[43m \u001b[49m\u001b[43mb\u001b[49m\u001b[43m)\u001b[49m\u001b[43m)\u001b[49m\u001b[38;5;241;43m*\u001b[39;49m\u001b[38;5;241;43m*\u001b[39;49m\u001b[38;5;241;43m2\u001b[39;49m \u001b[38;5;28;01mfor\u001b[39;00m x, y \u001b[38;5;129;01min\u001b[39;00m \u001b[38;5;28mzip\u001b[39m(X,y)) \u001b[38;5;241m/\u001b[39m N\n\u001b[1;32m      3\u001b[0m     \u001b[38;5;66;03m#print(\"Mean Squared Error: \", mse)\u001b[39;00m\n\u001b[1;32m      4\u001b[0m     \u001b[38;5;28;01mreturn\u001b[39;00m mse\n",
      "\u001b[0;31mOverflowError\u001b[0m: (34, 'Result too large')"
     ]
    }
   ],
   "source": [
    "%timeit \n",
    "\n",
    "print(\"====Batch Gradient Descent====\")\n",
    "w_1_1, b_1_1, loss_1_1 = batch_gradient_descent(X_1, y_1, lr = 0.01, epochs = 10000)\n",
    "print(f\"Final w: {w_1_1}, b: {b_1_1}\")\n",
    "mse_val_1_1 = calculate_mse(X_1, y_1, w_1_1, b_1_1) \n",
    "print(\"MSE: \", mse_val_1_1)\n",
    "\n",
    "print(\"\\n====Stochastic Gradient Descent====\")\n",
    "w_2_1, b_2_1, loss_2_1 = stochastic_gradient_descent(X_1, y_1, lr = 0.01, epochs = 10000)\n",
    "print(f\"Final w: {w_2_1}, b: {b_2_1}\")\n",
    "mse_val_2_1 = calculate_mse(X_1, y_1, w_2_1, b_2_1) \n",
    "print(\"MSE: \", mse_val_2_1)"
   ]
  },
  {
   "cell_type": "markdown",
   "metadata": {},
   "source": [
    "## Cause of Overflow Error\n",
    "1. 10000 linear samples, with the uniform distribution within the same (0, 10) range, some of them are gonna be so tiny. \n",
    "2. No wonder why we have an overflow error, due to the scale of the data. \n",
    "\n",
    "## Ways to mitigate overflow \n",
    "1. Normalizing the data with Sklearn Standard Scaler \n",
    "2. Reducing the learning rate to 0.00001 \n",
    "3. Changing data values to float64.\n",
    "4. Gradient Clipping to prevent the gradients from being too large. \n",
    "5. Using a different loss function like Mean Absolute Error instead of a Mean Sqaured Error, which might be less prone to overflow. \n",
    "6. Early Stopping \n",
    "\n",
    "\n",
    "Experimenting All of them! \n"
   ]
  },
  {
   "cell_type": "markdown",
   "metadata": {},
   "source": [
    "### Mitigation 2: Reducing Learning Rate to 0.00001 \n",
    "\n",
    "We will start with Mitigation 2, cause Mitigation 1, involves an external library that I do not want to entertain in my code as of now. "
   ]
  },
  {
   "cell_type": "code",
   "execution_count": 36,
   "metadata": {},
   "outputs": [],
   "source": [
    "N_1 = 10000 #number of samples \n",
    "M = 1  \n",
    "lr_1= 0.01 \n",
    "epochs_1 = 10000 \n"
   ]
  },
  {
   "cell_type": "code",
   "execution_count": 45,
   "metadata": {},
   "outputs": [
    {
     "name": "stdout",
     "output_type": "stream",
     "text": [
      "====Batch Gradient Descent====\n",
      "Final w: 0.8877427978272352, b: -0.867574668786744\n",
      "MSE:  1686.724962370719\n",
      "==== time ====\n",
      "CPU times: user 31.7 s, sys: 48.9 ms, total: 31.7 s\n",
      "Wall time: 32.2 s\n"
     ]
    }
   ],
   "source": [
    "%%time\n",
    "\n",
    "print(\"====Batch Gradient Descent====\")\n",
    "w_1_1, b_1_1, loss_1_1 = batch_gradient_descent(X_1, y_1, lr = 0.0001, epochs = 10000)\n",
    "print(f\"Final w: {w_1_1}, b: {b_1_1}\")\n",
    "mse_val_1_1 = calculate_mse(X_1, y_1, w_1_1, b_1_1) \n",
    "print(\"MSE: \", mse_val_1_1)\n",
    "print(\"==== time ====\")\n"
   ]
  },
  {
   "cell_type": "code",
   "execution_count": 46,
   "metadata": {},
   "outputs": [
    {
     "name": "stdout",
     "output_type": "stream",
     "text": [
      "\n",
      "====Stochastic Gradient Descent====\n",
      "Final w: -0.3711741898883135, b: 4.711163375282058\n",
      "MSE:  1433.5299161371313\n",
      "==== time ====\n",
      "CPU times: user 43.6 s, sys: 38 ms, total: 43.6 s\n",
      "Wall time: 44.1 s\n"
     ]
    }
   ],
   "source": [
    "%%time \n",
    "print(\"\\n====Stochastic Gradient Descent====\")\n",
    "w_2_1, b_2_1, loss_2_1 = stochastic_gradient_descent(X_1, y_1, lr = 0.0001, epochs = 10000)\n",
    "print(f\"Final w: {w_2_1}, b: {b_2_1}\")\n",
    "mse_val_2_1 = calculate_mse(X_1, y_1, w_2_1, b_2_1) \n",
    "print(\"MSE: \", mse_val_2_1)\n",
    "print(\"==== time ====\")"
   ]
  },
  {
   "cell_type": "code",
   "execution_count": 38,
   "metadata": {},
   "outputs": [
    {
     "data": {
      "image/png": "[encoded data removed]",
      "text/plain": [
       "<Figure size 864x576 with 1 Axes>"
      ]
     },
     "metadata": {
      "needs_background": "light"
     },
     "output_type": "display_data"
    }
   ],
   "source": [
    "plt.figure(figsize=(12, 8))\n",
    "plt.plot(loss_1_1, color='blue', label='Batch Gradient Descent')\n",
    "plt.plot(loss_2_1, color='red', label='Stochastic Gradient Descent')\n",
    "plt.xlabel('Epochs')\n",
    "plt.ylabel('Loss')\n",
    "plt.title('Loss over 10k epochs - Comparison of Gradient Descent Methods')\n",
    "plt.legend()\n",
    "plt.show()"
   ]
  },
  {
   "cell_type": "markdown",
   "metadata": {},
   "source": [
    "Here's what seems to be happening: \n",
    "1. Both SGD and Batch GD seem to have different convergence points. \n",
    "2. It is entirely possible that Batch GD, got stuck in a local minima, but given the nature of SGD, it might have been able to mitigate this, and reach a more optimal minimum and hence, is the reason why it has a lower MSE. \n",
    "3. One thing that could attribute to the high MSE is the fact that the data is NOT SCALED yet. \n",
    "\n",
    "To check regarding the scaling, it's important to understand what, scale of data we are actually dealing with currently. Let's convert the current data we have, to a logarithmic scale to understand the scale. \n",
    "\n",
    "\n"
   ]
  },
  {
   "cell_type": "code",
   "execution_count": 39,
   "metadata": {},
   "outputs": [
    {
     "data": {
      "image/png": "[encoded data removed]",
      "text/plain": [
       "<Figure size 720x432 with 1 Axes>"
      ]
     },
     "metadata": {
      "needs_background": "light"
     },
     "output_type": "display_data"
    }
   ],
   "source": [
    "X_values = np.array(X) \n",
    "X_log = np.log10(X_values) \n",
    "plt.figure(figsize=(10, 6))\n",
    "plt.hist(X_log, bins=30, edgecolor='black')\n",
    "plt.xlabel('Log10(Value)')\n",
    "plt.ylabel('Frequency')\n",
    "plt.title('Histogram of X_values (Log Scale)')\n",
    "plt.grid(True)\n",
    "plt.show()"
   ]
  },
  {
   "cell_type": "markdown",
   "metadata": {},
   "source": [
    "So, the range of values we have in the input seems to be in the order of 10^-0.6 to 10^1.  \n",
    "Let's try to scale the data a little bit to center it around the mean. \n",
    "The motive for scaling the data in this particular use-case is: \n",
    "\n",
    "1. Improved Numerical Stability: We can try to experiment with values that do not get too large or small during computation \n",
    "2. Faster Convergence of Gradient Descent and stability in the gradient descent. \n",
    "\n",
    "### Mitigation 1: Scaling Values"
   ]
  },
  {
   "cell_type": "code",
   "execution_count": 40,
   "metadata": {},
   "outputs": [],
   "source": [
    "def get_mean(data):\n",
    "  return sum(data)/len(data) \n",
    "\n",
    "def get_std_dev(data, mean): \n",
    "  squared_diff_sum = sum((x-mean)**2 for x in data) \n",
    "  return math.sqrt(squared_diff_sum)/len(data)\n",
    "\n",
    "def standard_scaler(data):\n",
    "  mean = get_mean(data) \n",
    "  std_dev = get_std_dev(data, mean) \n",
    "\n",
    "  if std_dev == 0:\n",
    "    return [0]*len(data) \n",
    "\n",
    "  scaled_data = [(x - mean)/std_dev for x in data] \n",
    "  return scaled_data"
   ]
  },
  {
   "cell_type": "code",
   "execution_count": 41,
   "metadata": {},
   "outputs": [],
   "source": [
    "scaled_X = standard_scaler(X_1) \n",
    "scaled_y = standard_scaler(y_1)"
   ]
  },
  {
   "cell_type": "code",
   "execution_count": 42,
   "metadata": {},
   "outputs": [
    {
     "data": {
      "image/png": "[encoded data removed]",
      "text/plain": [
       "<Figure size 864x360 with 2 Axes>"
      ]
     },
     "metadata": {
      "needs_background": "light"
     },
     "output_type": "display_data"
    }
   ],
   "source": [
    "fig, (ax1, ax2) = plt.subplots(1, 2, figsize=(12, 5))\n",
    "\n",
    "# Plot original data\n",
    "ax1.hist(X, bins=30, edgecolor='black')\n",
    "ax1.set_title('Original X')\n",
    "ax1.set_xlabel('Value')\n",
    "ax1.set_ylabel('Frequency')\n",
    "\n",
    "# Plot scaled data\n",
    "ax2.hist(scaled_X, bins=30, edgecolor='black')\n",
    "ax2.set_title('Scaled X')\n",
    "ax2.set_xlabel('Value')\n",
    "ax2.set_ylabel('Frequency')\n",
    "\n",
    "# Adjust layout and display\n",
    "plt.tight_layout()\n",
    "plt.show()"
   ]
  },
  {
   "cell_type": "code",
   "execution_count": 43,
   "metadata": {},
   "outputs": [
    {
     "name": "stdout",
     "output_type": "stream",
     "text": [
      "====Batch Gradient Descent On Scaled Data====\n",
      "Final w: -5.170169847801276e-14, b: -0.010192673853673393\n",
      "MSE:  3375.2245311994698\n",
      "====Time Details====\n",
      "CPU times: user 32.1 s, sys: 65 ms, total: 32.2 s\n",
      "Wall time: 32.9 s\n"
     ]
    }
   ],
   "source": [
    "%%time\n",
    "print(\"====Batch Gradient Descent On Scaled Data====\")\n",
    "w_1_1, b_1_1, loss_1_1 = batch_gradient_descent(scaled_X, scaled_y, lr = 0.000001, epochs = 10000)\n",
    "print(f\"Final w: {w_1_1}, b: {b_1_1}\")\n",
    "mse_val_1_1 = calculate_mse(X_1, y_1, w_1_1, b_1_1) \n",
    "print(\"MSE: \", mse_val_1_1)\n",
    "print(\"====Time Details====\")\n",
    "\n"
   ]
  },
  {
   "cell_type": "code",
   "execution_count": 44,
   "metadata": {},
   "outputs": [
    {
     "name": "stdout",
     "output_type": "stream",
     "text": [
      "\n",
      "====Stochastic Gradient Descent====\n",
      "Final w: 0.6290169293664607, b: 0.48123095850902164\n",
      "MSE:  1351.4550916094965\n",
      "====Time Details====\n",
      "CPU times: user 44.3 s, sys: 71.7 ms, total: 44.4 s\n",
      "Wall time: 45.2 s\n"
     ]
    }
   ],
   "source": [
    "%%time\n",
    "print(\"\\n====Stochastic Gradient Descent====\")\n",
    "w_2_1, b_2_1, loss_2_1 = stochastic_gradient_descent(scaled_X, scaled_y, lr = 0.000001, epochs = 10000)\n",
    "print(f\"Final w: {w_2_1}, b: {b_2_1}\")\n",
    "mse_val_2_1 = calculate_mse(X_1, y_1, w_2_1, b_2_1) \n",
    "print(\"MSE: \", mse_val_2_1)\n",
    "\n",
    "print(\"====Time Details====\")"
   ]
  },
  {
   "cell_type": "markdown",
   "metadata": {},
   "source": [
    "Since, we're encountering too many overflow errors, it's definitely not optimal to keep shrinking the learning rate. As seen earlier, shrinking the learning rate, is definitely acting as a performance overhead, leading to longer time for convergence. Instead, we'll resort to gradient clipping, Mitigation No. 4 \n",
    "\n",
    "### Mitigation 4: Gradient Clipping"
   ]
  },
  {
   "cell_type": "code",
   "execution_count": null,
   "metadata": {},
   "outputs": [],
   "source": [
    "def calculate_mse(X, y, w, b):\n",
    "    mse = sum((y - (w * x + b))**2 for x, y in zip(X,y)) / N\n",
    "    #print(\"Mean Squared Error: \", mse)\n",
    "    return mse \n",
    "\n",
    "def generate_data(no_of_samples): \n",
    "  for _ in range(no_of_samples):\n",
    "    x = random.uniform(0, 10) \n",
    "\n",
    "  \n",
    "def batch_gradient_descent(X, y, lr = 0.01, epochs = 1000):\n",
    "  w = 0\n",
    "  b = 0 \n",
    "  loss = [] \n",
    "  for epoch in range(epochs):\n",
    "    dw = 0 \n",
    "    db = 0\n",
    "    for x_i, y_i in zip(X, y):\n",
    "      dw +=  2 * x_i * ((w * x_i + b) - y_i)\n",
    "      db += 2 *((w + x_i + b) - y_i)\n",
    "      \n",
    "    w = w - lr * (dw / N)\n",
    "    b = b - lr * (db / N) \n",
    "\n",
    "    curr_mse = calculate_mse(X, y, w, b) \n",
    "    loss.append(curr_mse) \n",
    "\n",
    "    #if epoch > 0 and abs(loss[-1] - loss[-2]) < 1e-6:\n",
    "      #print(f\"Converged at iteration {epoch}\")\n",
    "  return w, b, loss\n",
    "\n",
    "def stochastic_gradient_descent(X, y, lr = 0.01, epochs = 1000): \n",
    "  w = 0 \n",
    "  b = 0\n",
    "  loss = [] \n",
    "  for epoch in range(epochs):\n",
    "    dw = 0 \n",
    "    db = 0 \n",
    "    for x_i, y_i in zip(X, y):\n",
    "      dw += 2 * x_i * ((w * x_i + b) - y_i)\n",
    "      db += 2 * ((w * x_i + b) - y_i)\n",
    "\n",
    "      w = w - lr * (dw / N) \n",
    "      b = b - lr * (db / N) \n",
    "    \n",
    "    curr_mse = calculate_mse(X, y, w, b) \n",
    "    loss.append(curr_mse) \n",
    "    #if epoch > 0 and abs(loss[-1] - loss[-2]) < 1e-6:\n",
    "      #print(f\"Converged at iteration {epoch}\")\n",
    "      \n",
    "  return w, b, loss\n",
    "\n"
   ]
  },
  {
   "cell_type": "code",
   "execution_count": 2,
   "metadata": {},
   "outputs": [
    {
     "name": "stdout",
     "output_type": "stream",
     "text": [
      "QQQQQQQQQQQQQQQQQQQQQQQQQQQQQQQQQQQQQQQQQQQQQQQQQQQQQQQ\n"
     ]
    }
   ],
   "source": [
    "print('Q'*55)"
   ]
  },
  {
   "cell_type": "code",
   "execution_count": 3,
   "metadata": {},
   "outputs": [
    {
     "data": {
      "text/plain": [
       "60"
      ]
     },
     "execution_count": 3,
     "metadata": {},
     "output_type": "execute_result"
    }
   ],
   "source": [
    "len('Learning is a treasure that will follow its owner everywhere')"
   ]
  },
  {
   "cell_type": "code",
   "execution_count": null,
   "metadata": {},
   "outputs": [],
   "source": []
  }
 ],
 "metadata": {
  "kernelspec": {
   "display_name": "base",
   "language": "python",
   "name": "python3"
  },
  "language_info": {
   "codemirror_mode": {
    "name": "ipython",
    "version": 3
   },
   "file_extension": ".py",
   "mimetype": "text/x-python",
   "name": "python",
   "nbconvert_exporter": "python",
   "pygments_lexer": "ipython3",
   "version": "3.9.12"
  }
 },
 "nbformat": 4,
 "nbformat_minor": 2
}
